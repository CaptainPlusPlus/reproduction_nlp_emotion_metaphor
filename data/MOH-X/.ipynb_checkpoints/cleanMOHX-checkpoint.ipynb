{
 "cells": [
  {
   "cell_type": "code",
   "execution_count": 22,
   "metadata": {},
   "outputs": [
    {
     "data": {
      "text/plain": [
       "'\\nclean the MOH-X dataset\\nseperate punctuations, add missing punctuations\\n'"
      ]
     },
     "execution_count": 22,
     "metadata": {},
     "output_type": "execute_result"
    }
   ],
   "source": [
    "\"\"\"\n",
    "clean the MOH-X dataset\n",
    "seperate punctuations, add missing punctuations\n",
    "tokenize the sentence and re-comptue the verb index\n",
    "\n",
    "BUT not all verbs are found in the sentence, still need manual check for not-found verb index: -1\n",
    "\"\"\""
   ]
  },
  {
   "cell_type": "code",
   "execution_count": 34,
   "metadata": {},
   "outputs": [
    {
     "name": "stdout",
     "output_type": "stream",
     "text": [
      "MOH-X dataset 647\n"
     ]
    }
   ],
   "source": [
    "import csv\n",
    "raw_mohX = []\n",
    "with open('MOH-X_formatted_svo.csv') as f:\n",
    "    lines = csv.reader(f)\n",
    "    next(lines)\n",
    "    for line in lines:\n",
    "        raw_mohX.append([line[0], line[1], line[2], line[3], int(line[4]), int(line[5])])\n",
    "print('MOH-X dataset', len(raw_mohX))"
   ]
  },
  {
   "cell_type": "code",
   "execution_count": 44,
   "metadata": {},
   "outputs": [],
   "source": [
    "import spacy\n",
    "nlp = spacy.load('en')\n",
    "cleaned = []\n",
    "for line in raw_mohX:\n",
    "    # add or seperate punctuations\n",
    "    sentence = line[3]\n",
    "    skip = sentence.endswith(' .') or sentence.endswith(' !') or sentence.endswith(' ?')\n",
    "    if not skip:\n",
    "        if sentence.endswith('.'):\n",
    "            sentence = sentence[:-1]\n",
    "        sentence = sentence + ' .'\n",
    "    # get the correct verb index\n",
    "    doc = nlp(sentence)\n",
    "    verb_idx = -1\n",
    "    verb = line[2]\n",
    "    verb_lemma = nlp(verb)[0].lemma_\n",
    "    found = False \n",
    "    tokenized = ''\n",
    "    for token in doc:\n",
    "        tokenized = tokenized + ' ' + token.text\n",
    "        if not found and token.lemma_ == verb_lemma:\n",
    "            verb_idx = token.i\n",
    "            found = True\n",
    "    cleaned.append([line[0], line[1], line[2], tokenized, verb_idx, line[5]])"
   ]
  },
  {
   "cell_type": "code",
   "execution_count": 45,
   "metadata": {
    "collapsed": true
   },
   "outputs": [],
   "source": [
    "# import csv\n",
    "# f = open('MOH-X_formatted_svo_cleaned.csv', \"w\")\n",
    "# writer = csv.writer(f)\n",
    "# writer.writerow(['arg1', 'arg2', 'verb','sentence', 'verb_idx', 'label'])\n",
    "# writer.writerows(cleaned)\n",
    "# f.close()"
   ]
  },
  {
   "cell_type": "code",
   "execution_count": null,
   "metadata": {
    "collapsed": true
   },
   "outputs": [],
   "source": []
  }
 ],
 "metadata": {
  "kernelspec": {
   "display_name": "Python 3",
   "language": "python",
   "name": "python3"
  },
  "language_info": {
   "codemirror_mode": {
    "name": "ipython",
    "version": 3
   },
   "file_extension": ".py",
   "mimetype": "text/x-python",
   "name": "python",
   "nbconvert_exporter": "python",
   "pygments_lexer": "ipython3",
   "version": "3.6.3"
  }
 },
 "nbformat": 4,
 "nbformat_minor": 2
}
